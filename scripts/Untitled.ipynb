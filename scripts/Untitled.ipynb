{
 "cells": [
  {
   "cell_type": "code",
   "execution_count": 1,
   "id": "5e949ee2-2f5e-4fbf-b6f6-1d6a58b2026e",
   "metadata": {},
   "outputs": [],
   "source": [
    "import scipy.io as io\n",
    "from scipy.interpolate import griddata\n",
    "import numpy as np"
   ]
  },
  {
   "cell_type": "code",
   "execution_count": 3,
   "id": "23ab4e19-429e-4677-9a70-f49e14e57a08",
   "metadata": {
    "tags": []
   },
   "outputs": [],
   "source": [
    "l = np.arange(.4, .905, .005)\n"
   ]
  },
  {
   "cell_type": "code",
   "execution_count": null,
   "id": "a03758f7-30cf-4673-ab1a-463098389cec",
   "metadata": {},
   "outputs": [],
   "source": [
    "mf = '/content/EAP/data/501nm_extended_e1701000.mat'\n",
    "mf = io.loadmat(mf)\n",
    "kcore = griddata(mf['RIs'][:, 5], mf['RIs'][:, 0], l, 'linear')"
   ]
  }
 ],
 "metadata": {
  "kernelspec": {
   "display_name": "Python 3 (ipykernel)",
   "language": "python",
   "name": "python3"
  },
  "language_info": {
   "codemirror_mode": {
    "name": "ipython",
    "version": 3
   },
   "file_extension": ".py",
   "mimetype": "text/x-python",
   "name": "python",
   "nbconvert_exporter": "python",
   "pygments_lexer": "ipython3",
   "version": "3.8.8"
  }
 },
 "nbformat": 4,
 "nbformat_minor": 5
}
